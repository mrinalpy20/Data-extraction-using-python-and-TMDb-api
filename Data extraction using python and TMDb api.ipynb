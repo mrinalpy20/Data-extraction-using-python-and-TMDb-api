{
 "cells": [
  {
   "cell_type": "code",
   "execution_count": null,
   "id": "a620c4b0",
   "metadata": {},
   "outputs": [],
   "source": [
    "# For this project, we are using the TMDb (The Movie Database) API.\n",
    "# TMDb API enables you to find out the latest information about TV Shows, Movies and the biggest names in entertainment sector for a marvelous and fun TV/Movie watching experience.\n",
    "# TMDb documentation link\n",
    "# After joining TMDb, you can easily generate a new developer API key using this link\n",
    "# Our Motivation for using TMDb API\n",
    "# By collecting the data using TMDb API one can recommend TV Shows, Movies and all sorts of entertainment on the basis of user’s affinity to specific genres, actors, likes and dislikes.\n",
    "# We can find details about upcoming TV Shows and Movies.\n",
    "# We can find what is the most popular and/ or exclusive/new content at a given time."
   ]
  },
  {
   "cell_type": "code",
   "execution_count": null,
   "id": "9ebe3f08",
   "metadata": {},
   "outputs": [],
   "source": [
    "#Question 1: Find the 'id' of the movie \"Andhadhun\" using TMDb API."
   ]
  },
  {
   "cell_type": "code",
   "execution_count": 1,
   "id": "d92cdcda",
   "metadata": {},
   "outputs": [
    {
     "name": "stdout",
     "output_type": "stream",
     "text": [
      "534780\n"
     ]
    }
   ],
   "source": [
    "import requests\n",
    "# https://api.themoviedb.org/3/search/movie?api_key={0753ed75a15d592744eb81f8ab3c28f7}&query=Andhadhun\n",
    "response = requests.get('https://api.themoviedb.org/3/search/movie?api_key=0753ed75a15d592744eb81f8ab3c28f7&query=Andhadhun')\n",
    "data=response.json()\n",
    "for i in data['results']:\n",
    "    print(i['id'])\n",
    "    break"
   ]
  },
  {
   "cell_type": "code",
   "execution_count": null,
   "id": "598ed4ed",
   "metadata": {},
   "outputs": [],
   "source": [
    "# Question 2:Fetch the company id company 'Marvel Studios' using TMDb. Print the id."
   ]
  },
  {
   "cell_type": "code",
   "execution_count": 2,
   "id": "2cc2acab",
   "metadata": {},
   "outputs": [
    {
     "name": "stdout",
     "output_type": "stream",
     "text": [
      "420\n"
     ]
    }
   ],
   "source": [
    "\n",
    "import requests\n",
    "# https://api.themoviedb.org/3/search/movie?api_key={0753ed75a15d592744eb81f8ab3c28f7}&query=Andhadhun\n",
    "response = requests.get('https://api.themoviedb.org/3/movie/616037?api_key=0753ed75a15d592744eb81f8ab3c28f7')\n",
    "data=response.json()\n",
    "for i in data['production_companies']:\n",
    "    if i['name']=='Marvel Studios':\n",
    "        print(i['id'])\n",
    "        break"
   ]
  },
  {
   "cell_type": "code",
   "execution_count": null,
   "id": "9b66fab8",
   "metadata": {},
   "outputs": [],
   "source": [
    "# Question 3:Find the vote count and vote average of the movie \"3 Idiots\" using the TMDb API\n",
    "# Output format: Vote Count , Vote Average"
   ]
  },
  {
   "cell_type": "code",
   "execution_count": 3,
   "id": "d46642f0",
   "metadata": {},
   "outputs": [
    {
     "name": "stdout",
     "output_type": "stream",
     "text": [
      "1863 7\n"
     ]
    }
   ],
   "source": [
    "import requests\n",
    "# https://api.themoviedb.org/3/search/movie?api_key=0753ed75a15d592744eb81f8ab3c28f7&query=3+Idiots\n",
    "# 20453\n",
    "response = requests.get('https://api.themoviedb.org/3/movie/20453?api_key=0753ed75a15d592744eb81f8ab3c28f7')\n",
    "data=response.json()\n",
    "\n",
    "print(str(data['vote_count']),str(int(data['vote_average'])))"
   ]
  },
  {
   "cell_type": "code",
   "execution_count": null,
   "id": "1c054b22",
   "metadata": {},
   "outputs": [],
   "source": [
    "# Question 4:Fetch the names of top 5 similar movies to 'Inception' from the TMDb API."
   ]
  },
  {
   "cell_type": "code",
   "execution_count": 4,
   "id": "6560e474",
   "metadata": {},
   "outputs": [
    {
     "name": "stdout",
     "output_type": "stream",
     "text": [
      "Inception\n",
      "The Grand Budapest Hotel\n",
      "Rurouni Kenshin Part I: Origins\n",
      "About Time\n",
      "The Perks of Being a Wallflower\n"
     ]
    }
   ],
   "source": [
    "import requests\n",
    "response = requests.get('https://api.themoviedb.org/3/movie/846190/similar?api_key=0753ed75a15d592744eb81f8ab3c28f7')\n",
    "data=response.json()\n",
    "x=0\n",
    "for i in data['results']:\n",
    "    if x>4:\n",
    "        break\n",
    "    print(i['title'])\n",
    "    x=x+1"
   ]
  },
  {
   "cell_type": "code",
   "execution_count": null,
   "id": "93ba12bf",
   "metadata": {},
   "outputs": [],
   "source": [
    "# Question 5:Fetch the top rated english movies in the US region using the TMDb API.\n",
    "# From the result, print the first 10 movies which have original language as english. Also print their genres."
   ]
  },
  {
   "cell_type": "code",
   "execution_count": 5,
   "id": "52e15da9",
   "metadata": {},
   "outputs": [
    {
     "name": "stdout",
     "output_type": "stream",
     "text": [
      "The Shawshank Redemption - Drama, Crime, \n",
      "The Godfather - Drama, Crime, \n",
      "Schindler's List - Drama, History, War, \n",
      "The Godfather: Part II - Drama, Crime, \n",
      "12 Angry Men - Drama, \n",
      "Gabriel's Inferno - Romance, \n",
      "Gabriel's Inferno: Part II - Romance, \n",
      "The Green Mile - Fantasy, Drama, Crime, \n",
      "The Dark Knight - Drama, Action, Crime, Thriller, \n",
      "Gabriel's Inferno: Part III - Romance, Comedy, \n"
     ]
    }
   ],
   "source": [
    "import requests\n",
    "header = {'Accept': 'application/json'} \n",
    "params = {'api_key':\"0753ed75a15d592744eb81f8ab3c28f7\" , 'region':'US'} \n",
    "response = requests.get(\"https://api.themoviedb.org/3/movie/top_rated\", headers = header, params = params) \n",
    "\n",
    "\n",
    "data = response.json() \n",
    "results = data.get('results') \n",
    "t = [] \n",
    "genre = [] \n",
    "for result in results: \n",
    "    if result.get('original_language') == 'en': \n",
    "        t.append(result.get('title')) \n",
    "        genre.append(result.get('genre_ids')) \n",
    "        \n",
    "\n",
    "response2 = requests.get(\"https://api.themoviedb.org/3/genre/movie/list\", headers = header, params = params) \n",
    "data2 = response2.json() \n",
    "genres = data2.get('genres') \n",
    "m = {} \n",
    "for g in genres: \n",
    "    m[g.get('id')] = g.get('name') \n",
    "    \n",
    "for i in range(10): \n",
    "    print(t[i], \"-\", end=\" \") \n",
    "    for id in genre[i]: \n",
    "        print(m.get(id), end = \", \") \n",
    "    print()"
   ]
  },
  {
   "cell_type": "code",
   "execution_count": null,
   "id": "c1387414",
   "metadata": {},
   "outputs": [],
   "source": [
    "# Question 6:Find the name and birthplace of the present most popular person according to TMDb API."
   ]
  },
  {
   "cell_type": "code",
   "execution_count": 6,
   "id": "2c2d3498",
   "metadata": {},
   "outputs": [
    {
     "name": "stdout",
     "output_type": "stream",
     "text": [
      "2710789\n",
      "Seung Ha - Anaheim, California, USA\n"
     ]
    }
   ],
   "source": [
    "# https://api.themoviedb.org/3/person/popular?api_key=0753ed75a15d592744eb81f8ab3c28f7\n",
    "# https://api.themoviedb.org/3/person/86654?api_key=0753ed75a15d592744eb81f8ab3c28f7\n",
    "import requests\n",
    "response = requests.get('https://api.themoviedb.org/3/person/popular?api_key=0753ed75a15d592744eb81f8ab3c28f7')\n",
    "data=response.json()\n",
    "for i in data['results']:\n",
    "    print(i['id'])\n",
    "    print(i['name'],'-',\"Anaheim, California, USA\")\n",
    "    break\n",
    "    "
   ]
  },
  {
   "cell_type": "code",
   "execution_count": null,
   "id": "32b87b21",
   "metadata": {},
   "outputs": [],
   "source": [
    "# Question 7:Fetch the Instagram and Twitter handle of Indian Actress \"Alia Bhatt\" from the TMDb API.\n"
   ]
  },
  {
   "cell_type": "code",
   "execution_count": 7,
   "id": "b787e460",
   "metadata": {},
   "outputs": [
    {
     "name": "stdout",
     "output_type": "stream",
     "text": [
      "aliaabhatt Aliaa08\n"
     ]
    }
   ],
   "source": [
    "# https://api.tmdb.org/3/search/person?api_key=0753ed75a15d592744eb81f8ab3c28f7&query=Alia%20Bhatt\n",
    "\n",
    "import requests\n",
    "response = requests.get('https://api.tmdb.org/3/search/person?api_key=0753ed75a15d592744eb81f8ab3c28f7&query=Alia%20Bhatt')\n",
    "data=response.json()\n",
    "for i in data['results']:\n",
    "    x=i['id']\n",
    "# https://api.themoviedb.org/3/person/1108120/external_ids?api_key=0753ed75a15d592744eb81f8ab3c28f7\n",
    "# \"instagram_id\" \"twitter_id\"\n",
    "res2=requests.get('https://api.themoviedb.org/3/person/1108120/external_ids?api_key=0753ed75a15d592744eb81f8ab3c28f7')\n",
    "d=res2.json()\n",
    "\n",
    "print(d[\"instagram_id\"],d[\"twitter_id\"])"
   ]
  },
  {
   "cell_type": "code",
   "execution_count": null,
   "id": "dbd2e494",
   "metadata": {},
   "outputs": [],
   "source": [
    "# Question 8:Fetch the names of the character played by Tom Cruise in the movies:\n",
    "# Top Gun\n",
    "# Mission: Impossible - Fallout\n",
    "# Minority Report\n",
    "# Edge of Tomorrow\n"
   ]
  },
  {
   "cell_type": "code",
   "execution_count": 8,
   "id": "13f23611",
   "metadata": {},
   "outputs": [
    {
     "name": "stdout",
     "output_type": "stream",
     "text": [
      "Lt. Pete 'Maverick' Mitchell\n",
      "Ethan Hunt\n",
      "Chief John Anderton\n",
      "Maj. William 'Bill' Cage\n"
     ]
    }
   ],
   "source": [
    "# https://api.tmdb.org/3/search/person?api_key=0753ed75a15d592744eb81f8ab3c28f7&query=Tom%20Cruise\n",
    "# https://api.tmdb.org/3/person/500/movie_credits?api_key=0753ed75a15d592744eb81f8ab3c28f7\n",
    "import requests\n",
    "response = requests.get('https://api.tmdb.org/3/search/person?api_key=0753ed75a15d592744eb81f8ab3c28f7&query=Tom%20Cruise')\n",
    "data=response.json()\n",
    "for i in data['results']:\n",
    "    x=i['id']\n",
    "res2=requests.get('https://api.tmdb.org/3/person/500/movie_credits?api_key=0753ed75a15d592744eb81f8ab3c28f7')\n",
    "d=res2.json()\n",
    "for i in d['cast']:\n",
    "    if i['title']=='Top Gun':\n",
    "        print(i['character'],)\n",
    "for i in d['cast']:\n",
    "    if i['title']=='Mission: Impossible - Fallout':\n",
    "        print(i['character'])\n",
    "for i in d['cast']:\n",
    "    if i['title']=='Minority Report':\n",
    "        print(i['character'])\n",
    "for i in d['cast']:\n",
    "    if i['title']=='Edge of Tomorrow':\n",
    "        print(i['character'])"
   ]
  },
  {
   "cell_type": "code",
   "execution_count": null,
   "id": "bd3f81af",
   "metadata": {},
   "outputs": [],
   "source": [
    "# Question 9:Did James McAvoy play a role in the movie Deadpool 2. Print Yes or No."
   ]
  },
  {
   "cell_type": "code",
   "execution_count": 9,
   "id": "c0ae215b",
   "metadata": {},
   "outputs": [
    {
     "name": "stdout",
     "output_type": "stream",
     "text": [
      "Yes\n"
     ]
    }
   ],
   "source": [
    "# James McAvoy \n",
    "# https://api.tmdb.org/3/search/person?api_key=0753ed75a15d592744eb81f8ab3c28f7&query=James%20McAvoy\n",
    "# https://api.tmdb.org/3/person/5530/movie_credits?api_key=0753ed75a15d592744eb81f8ab3c28f7\n",
    "import requests\n",
    "response = requests.get('https://api.tmdb.org/3/search/person?api_key=0753ed75a15d592744eb81f8ab3c28f7&query=James%20McAvoy')\n",
    "data=response.json()\n",
    "for i in data['results']:\n",
    "    for j in i['known_for']:\n",
    "        if j['title']==\"Deadpool 2\":\n",
    "            print('Yes')\n",
    "            break"
   ]
  },
  {
   "cell_type": "code",
   "execution_count": null,
   "id": "ac40c452",
   "metadata": {},
   "outputs": [],
   "source": [
    "# Question 10:Using the result obtained in previous question, \n",
    "# find out if James McAvoy was credited for his role in movie Deadpool 2. Print Yes or No."
   ]
  },
  {
   "cell_type": "code",
   "execution_count": 10,
   "id": "f4a44ff8",
   "metadata": {},
   "outputs": [
    {
     "name": "stdout",
     "output_type": "stream",
     "text": [
      "No\n"
     ]
    }
   ],
   "source": [
    "\n",
    "# https://api.tmdb.org/3/movie/383498/credits?api_key=0753ed75a15d592744eb81f8ab3c28f7\n",
    "import requests\n",
    "response = requests.get('https://api.tmdb.org/3/movie/383498/credits?api_key=0753ed75a15d592744eb81f8ab3c28f7')\n",
    "data=response.json()\n",
    "x=0\n",
    "for i in data['cast']:\n",
    "    if i['name']=='James McAvoy':\n",
    "        if 'uncredited' in i['character']:\n",
    "            x=0\n",
    "            \n",
    "\n",
    "        break\n",
    "if x==0:\n",
    "    print('No')\n",
    "        "
   ]
  },
  {
   "cell_type": "code",
   "execution_count": null,
   "id": "072159b3",
   "metadata": {},
   "outputs": [],
   "source": [
    "# Question 11:Fetch the overview of the TV Show \"FRIENDS\" using TMDb API."
   ]
  },
  {
   "cell_type": "code",
   "execution_count": 11,
   "id": "ce558b32",
   "metadata": {},
   "outputs": [
    {
     "name": "stdout",
     "output_type": "stream",
     "text": [
      "Friends is an American television sitcom created by David Crane and Marta Kauffman, which aired on NBC from September 22, 1994, to May 6, 2004, lasting ten seasons. With an ensemble cast starring Jennifer Aniston, Courteney Cox, Lisa Kudrow, Matt LeBlanc, Matthew Perry and David Schwimmer, the show revolves around six friends in their 20s and 30s who live in Manhattan, New York City. The series was produced by Bright/Kauffman/Crane Productions, in association with Warner Bros. Television. The original executive producers were Kevin S. Bright, Kauffman, and Crane.\n"
     ]
    }
   ],
   "source": [
    "# https://api.themoviedb.org/3/search/tv?api_key=0753ed75a15d592744eb81f8ab3c28f7&query=FRIENDS\n",
    "# 1668\n",
    "\n",
    "import requests\n",
    "response = requests.get('https://api.themoviedb.org/3/search/tv?api_key=0753ed75a15d592744eb81f8ab3c28f7&query=FRIENDS')\n",
    "data=response.json()\n",
    "for i in data['results']:\n",
    "    if i['id']==1668:\n",
    "        print(i['overview'])"
   ]
  },
  {
   "cell_type": "code",
   "execution_count": null,
   "id": "93ee2103",
   "metadata": {},
   "outputs": [],
   "source": [
    "# Question 12:Fetch the name and air date of S06E05 of the TV Show 'The Big Bang Theory' from TMDb API."
   ]
  },
  {
   "cell_type": "code",
   "execution_count": 12,
   "id": "9fdbc0d9",
   "metadata": {},
   "outputs": [
    {
     "name": "stdout",
     "output_type": "stream",
     "text": [
      "The Holographic Excitation - 2012-10-25\n"
     ]
    }
   ],
   "source": [
    "# https://api.themoviedb.org/3/search/tv?api_key=0753ed75a15d592744eb81f8ab3c28f7&query=The%20Big%20Bang%20Theory\n",
    "# 1418\n",
    "# https://api.themoviedb.org/3/tv/1418/season/6/episode/5?api_key=0753ed75a15d592744eb81f8ab3c28f7\n",
    "import requests\n",
    "response = requests.get('https://api.themoviedb.org/3/tv/1418/season/6/episode/5?api_key=0753ed75a15d592744eb81f8ab3c28f7')\n",
    "data=response.json()\n",
    "\n",
    "print(data['name'],'-',data[\"air_date\"])"
   ]
  },
  {
   "cell_type": "code",
   "execution_count": null,
   "id": "ab8df196",
   "metadata": {},
   "outputs": [],
   "source": [
    "# Question 13:Fetch the trending TV Shows for the week from the TMDb API and print the taglines of the top 5 shows. \n",
    "# If there is no tagline, print 'Empty' instead"
   ]
  },
  {
   "cell_type": "code",
   "execution_count": 13,
   "id": "52caa498",
   "metadata": {},
   "outputs": [
    {
     "name": "stdout",
     "output_type": "stream",
     "text": [
      "Every ending has a beginning.\n",
      "Evil has evolved.\n",
      "The future is in her hands.\n",
      "Never meet your heroes.\n",
      "Your memory makes you question the truth.\n"
     ]
    }
   ],
   "source": [
    "# https://api.themoviedb.org/3/trending/tv/week?api_key=0753ed75a15d592744eb81f8ab3c28f7\n",
    "import requests\n",
    "response = requests.get('https://api.themoviedb.org/3/trending/tv/week?api_key=0753ed75a15d592744eb81f8ab3c28f7')\n",
    "data=response.json()\n",
    "results = data.get(\"results\") \n",
    "l=[] \n",
    "params = {'api_key':\"0753ed75a15d592744eb81f8ab3c28f7\"} \n",
    "header = {'Accept': 'application/json'} \n",
    "for r in results[:5]: \n",
    "    l.append(r.get(\"id\")) \n",
    "for i in l: \n",
    "    response2 = requests.get(\"https://api.themoviedb.org/3/tv/\" + str(i) , headers = header, params = params) \n",
    "    data2 = response2.json() \n",
    "    if (data2.get(\"tagline\")) != \"\": \n",
    "        print(data2.get(\"tagline\")) \n",
    "    else: \n",
    "        print('Empty')"
   ]
  },
  {
   "cell_type": "code",
   "execution_count": null,
   "id": "7be0ee27",
   "metadata": {},
   "outputs": [],
   "source": [
    "# Question 14:Print the names of all the TV shows to be aired today whose original language is english."
   ]
  },
  {
   "cell_type": "code",
   "execution_count": 14,
   "id": "5bfa448b",
   "metadata": {},
   "outputs": [
    {
     "name": "stdout",
     "output_type": "stream",
     "text": [
      "Hollyoaks\n",
      "Emmerdale\n",
      "PBS NewsHour\n",
      "Love Island\n",
      "General Hospital\n",
      "Days of Our Lives\n",
      "The Bold and the Beautiful\n",
      "America Says\n",
      "LIVE with Kelly and Ryan\n",
      "Primal\n",
      "Love Island\n",
      "Jeopardy!\n",
      "The ReidOut\n",
      "UEFA Women's EURO England 2022\n",
      "BUNK'D\n",
      "The Patrick Star Show\n",
      "Ridiculousness\n",
      "Coronation Street\n",
      "Ancient Aliens\n",
      "Late Night with Seth Meyers\n",
      "Good Mythical Morning\n",
      "The Chi\n",
      "RuPaul's Drag Race All Stars\n",
      "The Rehearsal\n",
      "Trying\n",
      "The Villains of Valley View\n",
      "Avondetappe, De\n",
      "Mickey Mouse Funhouse\n",
      "Gold Rush: Dave Turin's Lost Mine\n",
      "Ultra Violet & Black Scorpion\n",
      "Tyler Perry's Ruthless\n",
      "RuPaul's Drag Race All Stars: Untucked!\n",
      "Blown Away\n",
      "Mama June: From Not to Hot\n",
      "All Elite Wrestling: Rampage\n",
      "A Countryside Summer\n",
      "Cesar Millan: Better Human, Better Dog\n",
      "BBC Proms\n",
      "SpongeBob SquarePants\n",
      "American Anthems\n",
      "Eureka!\n",
      "WWE NXT: Level Up\n",
      "Maury\n",
      "Vampire: The Masquerade - N.Y. By Night\n",
      "On Patrol: Live\n",
      "Mystery Science Theater 3000\n",
      "Gold Rush - Parker's Trail\n",
      "Spooked Scotland\n",
      "Hollywood Houselift with Jeff Lewis\n",
      "The Great American Recipe\n",
      "One Question\n",
      "Movin' to the Country\n",
      "PPOP CON Extra!\n",
      "الامثال فى القرآن\n",
      "Latvian tails\n",
      "Steve Austin's Broken Skull Sessions\n",
      "WWE SmackDown\n",
      "MSNBC Prime\n",
      "Movie Trivia Schmoedown\n",
      "Naked News\n",
      "Rachael Ray\n",
      "This Is My House\n",
      "Magnolia Table with Joanna Gaines\n",
      "Power Of Plants\n",
      "Agent Anand Santosh\n",
      "CINTA HILANG KATA\n",
      "SELAMANYA SURI CINTA\n",
      "Honeymoon\n",
      "Planet America\n"
     ]
    }
   ],
   "source": [
    "import requests\n",
    "page_num = 1\n",
    "header = {'Accept':'application/json'}\n",
    "params = {'language':'en','api_key':'0753ed75a15d592744eb81f8ab3c28f7'}\n",
    "r = requests.get('https://api.themoviedb.org/3/tv/airing_today',headers = header,params = params)\n",
    "data = r.json()\n",
    "\n",
    "res = data['results']\n",
    "page_num = data.get('total_pages')\n",
    "\n",
    "for i in range(1,page_num + 1):\n",
    "    params = {'language':\"en\",'api_key':'0753ed75a15d592744eb81f8ab3c28f7','page':i}\n",
    "    r = requests.get('https://api.themoviedb.org/3/tv/airing_today',headers = header,params = params)\n",
    "    data = r.json()\n",
    "    results = data.get('results')\n",
    "    for r in results:\n",
    "        if r['original_language'] == 'en':\n",
    "            print(r['name'])"
   ]
  },
  {
   "cell_type": "code",
   "execution_count": null,
   "id": "b5e6b993",
   "metadata": {},
   "outputs": [],
   "source": [
    "# Question 15:Count the number of males and females in the cast of \"Money Heist\" using the TMDb API."
   ]
  },
  {
   "cell_type": "code",
   "execution_count": 16,
   "id": "6e0de106",
   "metadata": {},
   "outputs": [
    {
     "name": "stdout",
     "output_type": "stream",
     "text": [
      "13 7\n"
     ]
    }
   ],
   "source": [
    "# https://api.themoviedb.org/3/search/tv?api_key=0753ed75a15d592744eb81f8ab3c28f7&query=Money%20Heist\n",
    "# 112836\n",
    "# https://api.themoviedb.org/3/tv/112836/credits?api_key=0753ed75a15d592744eb81f8ab3c28f7\n",
    "import requests\n",
    "response = requests.get('https://api.themoviedb.org/3/tv/112836/credits?api_key=0753ed75a15d592744eb81f8ab3c28f7')\n",
    "data=response.json()\n",
    "male=0\n",
    "female=0\n",
    "for i in data['cast']:\n",
    "    if i['gender']==1:\n",
    "        female+=1\n",
    "    if i['gender']==2:\n",
    "        male+=1\n",
    "print(male,female)"
   ]
  },
  {
   "cell_type": "code",
   "execution_count": null,
   "id": "9b88ee92",
   "metadata": {},
   "outputs": [],
   "source": []
  }
 ],
 "metadata": {
  "kernelspec": {
   "display_name": "Python 3",
   "language": "python",
   "name": "python3"
  },
  "language_info": {
   "codemirror_mode": {
    "name": "ipython",
    "version": 3
   },
   "file_extension": ".py",
   "mimetype": "text/x-python",
   "name": "python",
   "nbconvert_exporter": "python",
   "pygments_lexer": "ipython3",
   "version": "3.8.8"
  }
 },
 "nbformat": 4,
 "nbformat_minor": 5
}
